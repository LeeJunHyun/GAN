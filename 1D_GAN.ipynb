{
 "cells": [
  {
   "cell_type": "code",
   "execution_count": 6,
   "metadata": {
    "collapsed": true
   },
   "outputs": [],
   "source": [
    "# Tutorial code of 1-D GAN\n",
    "# http://blog.naver.com/atelierjpro/220984758512\n",
    "import numpy as np\n",
    "import matplotlib.pyplot as plt\n",
    "import matplotlib.mlab as mlab\n",
    "import tensorflow as tf\n"
   ]
  },
  {
   "cell_type": "code",
   "execution_count": 34,
   "metadata": {},
   "outputs": [],
   "source": [
    "sess = tf.InteractiveSession()\n",
    "\n",
    "class GenerativeNetwork:\n",
    "    dim_z=1\n",
    "    dim_g=1\n",
    "    \n",
    "    def __init__(self):\n",
    "        rand_uni = tf.random_uniform_initializer(-1e1,1e1)\n",
    "        self.z_input = tf.placeholder(tf.float32,shape = [None,self.dim_z],name = \"z-input\")\n",
    "        self.W0 = tf.Variable(rand_uni([self.dim_z,self.dim_g]))\n",
    "        self.b0 = tf.Variable(rand_uni([self.dim_g]))\n",
    "        self.g = tf.nn.sigmoid(tf.matmul(self.z_input,self.W0)+self.b0)\n",
    "        \n",
    "    def generate(self,z_i):\n",
    "        z_i = np.reshape(z_i,[-1,self.dim_z])\n",
    "        g_i = sess.run([self.g],feed_dict={self.z_input : z_i})\n",
    "        return g_i[0]\n",
    "\n",
    "\n",
    "class Discriminator:\n",
    "    dim_x = 1\n",
    "    dim_d = 1\n",
    "    num_hidden_neurons = 10\n",
    "    learning_rate = 0.1\n",
    "    \n",
    "    def __init__(self):\n",
    "        self.x_input = tf.placeholder(tf.float32,shape=[None,self.dim_x],name=\"x_input\")\n",
    "        self.d_target = tf.placeholder(tf.float32,shape=[None,self.dim_d],name=\"d_target\")\n",
    "        \n",
    "        rand_uni = tf.random_uniform_initializer(-1e-2,1e-2)\n",
    "        \n",
    "        self.W0 = tf.Variable(rand_uni([self.dim_x,self.num_hidden_neurons]))\n",
    "        self.b0 = tf.Variable(rand_uni([self.num_hidden_neurons]))\n",
    "        self.W1 = tf.Variable(rand_uni([self.num_hidden_neurons,self.dim_d]))\n",
    "        self.b1 = tf.Variable(rand_uni([self.dim_d]))\n",
    "        \n",
    "        temp = tf.nn.sigmoid(tf.matmul(self.x_input,self.W0)+self.b0)\n",
    "        self.d = tf.nn.sigmoid(tf.matmul(temp,self.W1)+self.b1)\n",
    "        \n",
    "        self.loss = tf.losses.mean_squared_error(self.d,self.d_target)\n",
    "        \n",
    "        self.opt = tf.train.AdamOptimizer(self.learning_rate).minimize(self.loss)\n",
    "        \n",
    "    def discriminate(self,x_i):\n",
    "        d_i = sess.run([self.d],feed_dict={self.x_input:x_i})\n",
    "        return d_i[0]\n",
    "    \n",
    "    def train(self,x_i,d_i):\n",
    "        error,_ = sess.run([self.loss,self.opt],feed_dict={self.x_input:x_i,self.d_target:d_i})\n",
    "        return error\n",
    "        "
   ]
  },
  {
   "cell_type": "code",
   "execution_count": 39,
   "metadata": {},
   "outputs": [
    {
     "name": "stdout",
     "output_type": "stream",
     "text": [
      "Hello! GAN!\n",
      "0.149216\n",
      "0.409377\n",
      "0.000862018\n",
      "0.000934904\n",
      "0.000284792\n",
      "0.00030562\n",
      "0.000150692\n",
      "0.000160114\n",
      "9.59333e-05\n",
      "0.000100933\n",
      "6.74618e-05\n",
      "7.02773e-05\n",
      "5.04791e-05\n",
      "5.20598e-05\n",
      "3.94049e-05\n",
      "4.02262e-05\n",
      "3.17168e-05\n",
      "3.20437e-05\n",
      "2.61262e-05\n",
      "2.6118e-05\n"
     ]
    },
    {
     "data": {
      "image/png": "[encoded data removed]",
      "text/plain": [
       "<matplotlib.figure.Figure at 0x7fef7c0628d0>"
      ]
     },
     "metadata": {},
     "output_type": "display_data"
    }
   ],
   "source": [
    "print(\"Hello! GAN!\")\n",
    "mu = 0.8\n",
    "sigma=0.1\n",
    "num_bins = 100\n",
    "num_samples = 1000000\n",
    "\n",
    "x = np.random.normal(mu,sigma,num_samples)\n",
    "z = np.random.uniform(0,1,num_samples)\n",
    "g = np.ndarray(num_samples)\n",
    "\n",
    "G = GenerativeNetwork()\n",
    "D = Discriminator()\n",
    "\n",
    "tf.global_variables_initializer().run()\n",
    "\n",
    "# for i in range(0,num_samples,1):\n",
    "#     z_i = np.reshape(z[i],G.dim_z)\n",
    "#     g[i] =G.generate(z_i)\n",
    "x_i = np.reshape(x,(num_samples,D.dim_x))\n",
    "z_i = np.reshape(z,(num_samples,G.dim_z))\n",
    "g_i = G.generate(z_i)\n",
    "g = np.reshape(g_i,(num_samples))\n",
    "\n",
    "d_x_i = np.ndarray(shape=(num_samples,D.dim_x))\n",
    "d_x_i.fill(1.0)\n",
    "\n",
    "d_g_i = np.ndarray(shape = (num_samples,D.dim_x))\n",
    "d_g_i.fill(0.0)\n",
    "\n",
    "# Not a good way to train.\n",
    "# TODO: shuffle samples\n",
    "for tr in range(0,1000,1):\n",
    "    D.train(x_i,d_x_i)\n",
    "    D.train(g_i,d_g_i)\n",
    "    if tr % 100 ==0:\n",
    "        print(D.train(x_i,d_x_i))\n",
    "        print(D.train(g_i,d_g_i))\n",
    "\n",
    "bins = np.linspace(0,1,num_bins)\n",
    "px, _ = np.histogram(x,bins=bins, density = True)\n",
    "pz, _ = np.histogram(z,bins=bins, density = True)\n",
    "pg,_ = np.histogram(g,bins=bins, density= True)\n",
    "\n",
    "v = np.linspace(0,1,len(px))\n",
    "\n",
    "v_i = np.reshape(v,(len(v),D.dim_x))\n",
    "db = D.discriminate(v_i)\n",
    "db = np.reshape(db,len(v))\n",
    "\n",
    "l = plt.plot(v,px,'b--',linewidth=1)\n",
    "l = plt.plot(v,pz,'r--',linewidth=1)\n",
    "l = plt.plot(v,pg,'g--',linewidth=1)\n",
    "l = plt.plot(v,db,'k--',linewidth=1)\n",
    "\n",
    "\n",
    "plt.title('1D GAN Test')\n",
    "plt.xlabel('Data values')\n",
    "plt.ylabel('Probability density')\n",
    "plt.show()\n"
   ]
  },
  {
   "cell_type": "code",
   "execution_count": null,
   "metadata": {
    "collapsed": true
   },
   "outputs": [],
   "source": []
  }
 ],
 "metadata": {
  "anaconda-cloud": {},
  "kernelspec": {
   "display_name": "tensorflow kernel",
   "language": "python",
   "name": "tfkernel"
  },
  "language_info": {
   "codemirror_mode": {
    "name": "ipython",
    "version": 2
   },
   "file_extension": ".py",
   "mimetype": "text/x-python",
   "name": "python",
   "nbconvert_exporter": "python",
   "pygments_lexer": "ipython2",
   "version": "2.7.12"
  }
 },
 "nbformat": 4,
 "nbformat_minor": 1
}
